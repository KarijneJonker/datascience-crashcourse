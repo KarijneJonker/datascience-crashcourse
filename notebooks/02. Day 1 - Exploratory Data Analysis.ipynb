{
 "cells": [
  {
   "cell_type": "markdown",
   "id": "63dba09c",
   "metadata": {},
   "source": [
    "# Five Minute Python Refresher\n",
    "\n",
    "Python is an interpreted, object-oriented, high-level programming language with dynamic semantics. Its high-level built in data structures, combined with dynamic typing and dynamic binding, make it very attractive for Rapid Application Development, as well as for use as a scripting or glue language to connect existing components together. "
   ]
  },
  {
   "cell_type": "markdown",
   "id": "90da9949",
   "metadata": {},
   "source": [
    "# Data Structures\n",
    "\n",
    "### data structure\n",
    "An organization of data for the purpose of making it easier to use.\n",
    "### immutable data value\n",
    "A data value which cannot be modified. Assignments to elements or slices (sub-parts) of immutable values cause a runtime error.\n",
    "### mutable data value\n",
    "A data value which can be modified. The types of all mutable values are compound types. Lists and dictionaries are mutable; strings and tuples are not.\n",
    "\n",
    "\n",
    "## Following are the primary Data Structures that we will study:\n",
    "**1. Strings**\n",
    "Collection of unicode characters. It is indexed and immutable, \"hello world!\"\n",
    "\n",
    "**2. Lists**\n",
    "Collection of elements. It is indexed and mutable. Allows duplicates, \\[10,20,30\\]\n",
    "\n",
    "**3. Tuple**\n",
    "Collection which can be indexed but immutable, (apple, 250)\n",
    "\n",
    "**4. Set**\n",
    "Collection of unordered elements that doesn't allow repetitions, {apple, orange}\n",
    "\n",
    "**5. Dictionary**\n",
    "Collection of Key-Value pairs, {key:value}\n",
    "\n",
    "# Control Flow\n",
    "\n",
    "A program’s control flow is the order in which the program’s code executes. The control flow of a Python program is regulated by conditional statements, loops, and function calls. This section covers the if statement and for and while loops; functions are covered in the next class.\n",
    "\n",
    "![](https://www.researchgate.net/profile/Kay_Smarsly/publication/322509045/figure/fig1/AS:583153716215809@1516046088625/Control-flow-of-elementary-control-structures.png)\n",
    "\n",
    "# The if Statement\n",
    "\n",
    "Often, you need to execute some statements only if some condition holds, or choose statements to execute depending on several mutually exclusive conditions. The Python compound statement if, which uses if, elif, and else clauses, lets you conditionally execute blocks of statements. \n",
    "\n",
    "## Comparision Operators\n",
    "- x == y\n",
    "- x!= y\n",
    "- x < y\n",
    "- x <= y\n",
    "- x > y\n",
    "- x >= y\n",
    "\n",
    "## Python Indentation\n",
    "In Python, the code blocks are defined by a set of common or consistent number of spaces. This is called Python Indentation.\n",
    "\n",
    "The block scope will end at the first un-indented line.\n",
    "\n",
    "The best practice is to use on Tab space."
   ]
  },
  {
   "cell_type": "markdown",
   "id": "edd314b9",
   "metadata": {},
   "source": [
    "##  Quick Task 1.1: Fizz Buzz\n",
    "Write code to print all the numbers upto a given number \"N\", replacing every multiple of 3 by the word \"fizz\" and multiple of 5 by the word \"buzz\", and multiples of both 3 and 5 by \"fizzbuzz\"\n",
    "\n",
    "For N=7, print the output:\\\n",
    "1 2 fizz 4 buzz fizz 7\n",
    "\n",
    "All the items are printed in the same line"
   ]
  },
  {
   "cell_type": "code",
   "execution_count": null,
   "id": "c5312501",
   "metadata": {},
   "outputs": [],
   "source": []
  },
  {
   "cell_type": "markdown",
   "id": "b731bf4e",
   "metadata": {},
   "source": [
    "## Quick Task 1.2: Wordcount\n",
    "\n",
    "Given a sentence, find how many times each word occured\n",
    "\n",
    "sentence = \"hello this is a nice morning we have this class very morning\"\\\n",
    "this: 2\\\n",
    "nice: 1\\\n",
    "morning: 2\\\n",
    "... and so on"
   ]
  },
  {
   "cell_type": "code",
   "execution_count": null,
   "id": "f3626dfb",
   "metadata": {},
   "outputs": [],
   "source": [
    "sentence = \"hello this is a nice morning we have this class very morning\"\n",
    "\n",
    "worddictionary = dict()\n",
    "\n",
    "words = sentence.split(' ')\n",
    "\n",
    "for word in words:\n",
    "    # write something here\n",
    "\n",
    "worddictionary"
   ]
  },
  {
   "cell_type": "markdown",
   "id": "f9d5e7ba",
   "metadata": {},
   "source": [
    "# Functions in Python\n",
    "\n",
    "Function is a group of statements that performs a specific task.\n",
    "\n",
    "## Advantages:\n",
    "\n",
    "- Makes your code more organized and manageable.\n",
    "- Brings code reusability.\n",
    "\n",
    "## Function Syantax:\n",
    "```\n",
    "def <function name>([parameters]):\n",
    "    '''Doc string'''\n",
    "    Logic/statements\n",
    "    ...\n",
    "    ...\n",
    "    return value/print(value)\n",
    "```\n",
    "**def** - marks the start of the function header.\\\n",
    "**function name** - a unique name to idenfity the function, this naming follows the same checklist we learnt in variable naming.\\\n",
    "**parameters/arguments** - used to pass a value to the function while calling. These are optional.\\\n",
    "**Doc String** - a short description about the function. This is optional.\\\n",
    "**Logic/statements** - one or more valid python statements to perform the required task.\\\n",
    "**return** - this will return a value from the funxtion. Optional.\\\n",
    "**print** - to display a value from the fucntion. Optional.\n"
   ]
  },
  {
   "cell_type": "markdown",
   "id": "357f7cf5",
   "metadata": {},
   "source": [
    "## Quick Task 1.3: Create a Loan Interest Calculator Using Simple Interest\n",
    "\n",
    "Create a function that takes price, downpayment, rate of interest and time duration (computed yearly). Return the total amount user has to pay due to the interest excluding downpayment."
   ]
  },
  {
   "cell_type": "code",
   "execution_count": null,
   "id": "7129c521",
   "metadata": {},
   "outputs": [],
   "source": [
    "def get_amount(price, downpayment, rate, time):\n",
    "    # compute and return amount here\n",
    "    amount = 0\n",
    "    return amount\n",
    "\n",
    "print (   get_amount(1000, 200, 4, 10)  )"
   ]
  },
  {
   "cell_type": "markdown",
   "id": "4472d573",
   "metadata": {},
   "source": [
    "Exploratory Data Analysis refers to the critical process of performing initial investigations on data so as to discover patterns,to spot anomalies,to test hypothesis and to check assumptions with the help of summary statistics and graphical representations.\n",
    "\n",
    "## Why do we do EDA?\n",
    " - to understand nature and volume of data\n",
    " - critical analysis\n",
    " - find insights and patterns\n",
    " - find missing data"
   ]
  },
  {
   "cell_type": "markdown",
   "id": "40aaddbf",
   "metadata": {},
   "source": [
    "![Data Science Life Cycle](http://www.cortell.co.za/wp-content/uploads/2018/06/chart.png)"
   ]
  },
  {
   "cell_type": "markdown",
   "id": "463d6495",
   "metadata": {},
   "source": [
    "# Univariate Analysis\n",
    "\n",
    "Univariate analysis is the simplest form of data analysis where the data being analyzed contains only one variable. Since it's a single variable it doesn’t deal with causes or relationships.  The main purpose of univariate analysis is to describe the data and find patterns that exist within it.\n",
    "\n",
    "You can think of the variable as a category that your data falls into. One example of a variable in univariate analysis might be \"age\". Another might be \"height\". Univariate analysis would not look at these two variables at the same time, nor would it look at the relationship between them.\n",
    "\n",
    "Some ways you can describe patterns found in univariate data include looking at mean, mode, median, range, variance, maximum, minimum, quartiles, and standard deviation. Additionally, some ways you may display univariate data include frequency distribution tables, bar charts, histograms, frequency polygons, and pie charts.\n",
    "\n",
    "# Bivariate Analysis\n",
    "Bivariate analysis is used to find out if there is a relationship between two different variables. Something as simple as creating a scatterplot by plotting one variable against another on a Cartesian plane (think X and Y axis) can sometimes give you a picture of what the data is trying to tell you. If the data seems to fit a line or curve then there is a relationship or correlation between the two variables.  For example, one might choose to plot caloric intake versus weight.\n",
    "\n",
    "# Multivariate Analysis\n",
    "Multivariate analysis is the analysis of three or more variables.  There are many ways to perform multivariate analysis depending on your goals.\n",
    "\n",
    "This is relatively more complex and requires advanced understanding of statistics and data analysis methods.\n",
    "\n",
    "# Univariate Analysis vs Bivariate Analysis\n",
    "| **Univariate Analysis**                           | **Bivariate Analysis**                                           |\n",
    "|-----------------------------------------------|--------------------------------------------------------------|\n",
    "| Involves a single variable                    | Involves two variables                                       |\n",
    "| Deals with intrinsic property of the data     | Deals with cause and relationships between the two variables |\n",
    "| Major purpose is to describe                  | Major purpose is to explain                                  |\n",
    "| Mean, Median, Mode, Range, Standard Deviation | Correlation, Relationships, Causal Explanations              |\n",
    "\n",
    "\n",
    "Classical statistics focused almost exclusively on inference, a sometimes complex set of procedures for drawing conclusions about large populations based on small samples. In 1962, John W. Tukey called for a reformation of statistics in his seminal paper “The Future of Data Analysis”. He proposed a new scientific discipline called data analysis that included statistical inference as just one component. Tukey forged links to the engineering and computer science communities (he coined the terms bit, short for binary digit, and software), and his original tenets are suprisingly durable and form part of the foundation for data science. The field of exploratory data analysis was established with Tukey’s 1977 now-classic book Exploratory Data Analysis\n",
    "\n",
    "People are not very good at looking at a column of numbers or a whole spreadsheet and then determining important characteristics of the data. They find looking at numbers to be tedious, boring, and/or overwhelming. Exploratory data analysis is generally cross-classified in two ways. First, each method is either non-graphical or graphical. And second, each method is either\n",
    "univariate or multivariate (usually just bivariate). Each of the categories of EDA have further divisions based on the role (outcome or explanatory) and type (categorical or quantitative) of the variable(s) being examined."
   ]
  },
  {
   "cell_type": "markdown",
   "id": "adda736e",
   "metadata": {},
   "source": [
    "# The Dataset\n",
    "\n",
    "The sinking of the Titanic is one of the most infamous shipwrecks in history.\n",
    "\n",
    "On April 15, 1912, during her maiden voyage, the widely considered “unsinkable” RMS Titanic sank after colliding with an iceberg. Unfortunately, there weren’t enough lifeboats for everyone onboard, resulting in the death of 1502 out of 2224 passengers and crew.\n",
    "\n",
    "While there was some element of luck involved in surviving, it seems some groups of people were more likely to survive than others. In this experiment, we will analyze and find patterns that indicate who might have a better chance at survival.\n",
    "\n",
    "The dataset shared here is public information, though these files are sourced from Kaggle. After this 2-Day course, you are encouraged to attempt the open challenge at https://www.kaggle.com/c/titanic\n"
   ]
  },
  {
   "cell_type": "markdown",
   "id": "fa7d0963",
   "metadata": {},
   "source": [
    "# Reading a File\n",
    "\n",
    "We have shared a file in CSV format. How do we read it in python?"
   ]
  },
  {
   "cell_type": "markdown",
   "id": "b600d181",
   "metadata": {},
   "source": [
    "## Quick Task 1.4: Using the open() method"
   ]
  },
  {
   "cell_type": "code",
   "execution_count": null,
   "id": "caef22be",
   "metadata": {},
   "outputs": [],
   "source": [
    "fvar = open(\"../data/train.csv\") \n",
    "# f = open(\"data/train.csv\", 'r')"
   ]
  },
  {
   "cell_type": "markdown",
   "id": "0aeb7141",
   "metadata": {},
   "source": [
    "If there was an error, either the file isn't at the right place or you need to write the path properly."
   ]
  },
  {
   "cell_type": "code",
   "execution_count": null,
   "id": "4633df72",
   "metadata": {},
   "outputs": [],
   "source": [
    "fvar.read()"
   ]
  },
  {
   "cell_type": "markdown",
   "id": "a4fb6ba0",
   "metadata": {},
   "source": [
    "### Discussion: \n",
    "What are the issues if we continue using this method?"
   ]
  },
  {
   "cell_type": "markdown",
   "id": "2cb84a03",
   "metadata": {},
   "source": [
    "## Easier Option\n",
    "Don't re-invent the wheel"
   ]
  },
  {
   "cell_type": "code",
   "execution_count": null,
   "id": "a57d10b5",
   "metadata": {},
   "outputs": [],
   "source": [
    "import csv\n",
    "\n",
    "titanic = {}\n",
    "\n",
    "with open('../data/train.csv', mode='r') as data:\n",
    "    titanic = csv.DictReader(data)\n",
    "    for line in titanic:\n",
    "        print(line['Name'])"
   ]
  },
  {
   "cell_type": "markdown",
   "id": "45cb30a8",
   "metadata": {},
   "source": [
    "### Discussion: \n",
    "Take 2 minutes and explore these with the person(s) sitting next to you. Find the answers to the questions below and the code blocks that follow.\n",
    "\n",
    "- How many rows are there in this part of the dataset?\n",
    "- How many columns are there?\n",
    "- What are the columns called?\n",
    "- What does each column stand for? Feel free to google to find the answer to this."
   ]
  },
  {
   "cell_type": "markdown",
   "id": "a569f468",
   "metadata": {},
   "source": [
    "## Task 2.1: Find what percentage people survived?"
   ]
  },
  {
   "cell_type": "code",
   "execution_count": null,
   "id": "4dd46d4e",
   "metadata": {},
   "outputs": [],
   "source": [
    "survived=0\n",
    "total = 0\n",
    "\n",
    "with open('data/train.csv', mode='r') as data:\n",
    "    titanic = csv.DictReader(data)\n",
    "    for line in titanic:\n",
    "        # write your code here\n",
    "        pass\n",
    "        \n",
    "        \n",
    "print (100*survived/total)"
   ]
  },
  {
   "cell_type": "markdown",
   "id": "a7cb73dc",
   "metadata": {},
   "source": [
    "## Task 2.2: Find the oldest person"
   ]
  },
  {
   "cell_type": "code",
   "execution_count": null,
   "id": "cf372b9f",
   "metadata": {},
   "outputs": [],
   "source": [
    "max_age = 0\n",
    "oldestperson = None\n",
    "\n",
    "with open('data/train.csv', mode='r') as data:\n",
    "    titanic = csv.DictReader(data)\n",
    "    for line in titanic:\n",
    "        # write your code here\n",
    "        pass\n",
    "    \n",
    "            \n",
    "print (oldestperson)"
   ]
  },
  {
   "cell_type": "code",
   "execution_count": null,
   "id": "3372873f",
   "metadata": {},
   "outputs": [],
   "source": []
  },
  {
   "cell_type": "markdown",
   "id": "83d00a93",
   "metadata": {},
   "source": [
    "## Task 2.3: Find what percent of people travelling in the First Class survived?"
   ]
  },
  {
   "cell_type": "code",
   "execution_count": null,
   "id": "7d9513bb",
   "metadata": {},
   "outputs": [],
   "source": [
    "survived=0\n",
    "total = 0\n",
    "\n",
    "with open('data/train.csv', mode='r') as data:\n",
    "    titanic = csv.DictReader(data)\n",
    "    for line in titanic:\n",
    "        # write your code here\n",
    "        pass\n",
    "\n",
    "print (100*survived/total)"
   ]
  },
  {
   "cell_type": "markdown",
   "id": "d1bff93e",
   "metadata": {},
   "source": [
    "# 3. Data as a Table\n",
    "\n",
    "**Pandas** is a fast, powerful, flexible and easy to use open source data analysis and manipulation tool, built on top of the Python programming language. The name is crunched form of **pan**el **da**ta.\n",
    "\n",
    "Not only is the pandas library a central component of the data science toolkit but it is used in conjunction with other libraries in that collection. Pandas is built on top of the NumPy package, meaning a lot of the structure of NumPy is used or replicated in Pandas. Data in pandas is often used to feed statistical analysis in SciPy, plotting functions from Matplotlib, and machine learning algorithms in Scikit-learn.\n",
    "\n",
    "\n",
    "### Spreadsheets to DataFrame\n",
    "When working with tabular data, such as data stored in spreadsheets or databases, pandas is the right tool for you. pandas will help you to explore, clean and process your data. In pandas, a data table is called a DataFrame.\n",
    "\n",
    "![](https://pandas.pydata.org/docs/_images/01_table_dataframe.svg)\n",
    "\n"
   ]
  },
  {
   "cell_type": "code",
   "execution_count": null,
   "id": "1f49c624",
   "metadata": {},
   "outputs": [],
   "source": [
    "import pandas as pd\n",
    "print (pd.__version__)"
   ]
  },
  {
   "cell_type": "markdown",
   "id": "c2b5ae7e",
   "metadata": {},
   "source": [
    "If you see any error while running the previous line, there was possibly some issue with pandas installation."
   ]
  },
  {
   "cell_type": "markdown",
   "id": "971fc2a8",
   "metadata": {},
   "source": [
    "## Task 3.1 Read the dataset using Pandas"
   ]
  },
  {
   "cell_type": "code",
   "execution_count": null,
   "id": "27e507ac",
   "metadata": {},
   "outputs": [],
   "source": [
    "titanic = None\n",
    "filepath = \"../data/train.csv\"\n",
    "titanic  = pd.read_csv(filepath)"
   ]
  },
  {
   "cell_type": "code",
   "execution_count": null,
   "id": "6d3c84d1",
   "metadata": {},
   "outputs": [],
   "source": [
    "titanic[   titanic['Survived']==1   ]"
   ]
  },
  {
   "cell_type": "markdown",
   "id": "761b3157",
   "metadata": {},
   "source": [
    "### 3.2 What is the datatype of this object?"
   ]
  },
  {
   "cell_type": "code",
   "execution_count": null,
   "id": "718115c0",
   "metadata": {},
   "outputs": [],
   "source": []
  },
  {
   "cell_type": "markdown",
   "id": "6a67706d",
   "metadata": {},
   "source": [
    "### 3.3 Read first 3 rows of the dataset"
   ]
  },
  {
   "cell_type": "code",
   "execution_count": null,
   "id": "e0c356ee",
   "metadata": {},
   "outputs": [],
   "source": []
  },
  {
   "cell_type": "markdown",
   "id": "a59f5852",
   "metadata": {},
   "source": [
    "### 3.4 Read last 3 rows of the dataset"
   ]
  },
  {
   "cell_type": "code",
   "execution_count": null,
   "id": "121c5860",
   "metadata": {},
   "outputs": [],
   "source": []
  },
  {
   "cell_type": "markdown",
   "id": "347bf1f6",
   "metadata": {},
   "source": [
    "### 3.5 What are all the columns?"
   ]
  },
  {
   "cell_type": "code",
   "execution_count": null,
   "id": "69d6c81b",
   "metadata": {},
   "outputs": [],
   "source": []
  },
  {
   "cell_type": "markdown",
   "id": "d534a469",
   "metadata": {},
   "source": [
    "### 3.6 Short Side-Quest\n",
    "\n",
    "Convert dataset into a two-dimensional numpy array using `df.values` and find the number of people who survived."
   ]
  },
  {
   "cell_type": "code",
   "execution_count": null,
   "id": "85dda58a",
   "metadata": {},
   "outputs": [],
   "source": []
  },
  {
   "cell_type": "markdown",
   "id": "f7816a3b",
   "metadata": {},
   "source": [
    "# 4. Pandas for Data Analysis in Python\n",
    "\n",
    "### Why Pandas?\n",
    "- Fast and efficient DataFrame object with default and customized indexing.\n",
    "- Tools for loading data into in-memory data objects from different file formats.\n",
    "- Data alignment and integrated handling of missing data.\n",
    "- Reshaping and pivoting of date sets.\n",
    "- Label-based slicing, indexing and subsetting of large data sets.\n",
    "- Columns from a data structure can be deleted or inserted.\n",
    "- Group by data for aggregation and transformations.\n",
    "- High performance merging and joining of data.\n",
    "\n",
    "\n",
    "### Multi-Format Support\n",
    "Pandas supports the integration with many file formats or data sources out of the box (csv, excel, sql, json, parquet,…). Importing data from each of these data sources is provided by function with the prefix `read_*`. Similarly, the `to_*` methods are used to store data.\n",
    "\n",
    "![https://pandas.pydata.org/docs/_images/02_io_readwrite.svg](https://pandas.pydata.org/docs/_images/02_io_readwrite.svg)\n",
    "\n",
    "\n",
    "\n",
    "### Analysis and Visualization\n",
    "Basic statistics (mean, median, min, max, counts…) are easily calculable. These or custom aggregations can be applied on the entire data set, a sliding window of the data or grouped by categories. The latter is also known as the split-apply-combine approach.\n",
    "\n",
    "Pandas provides plotting your data out of the box, using the power of Matplotlib. You can pick the plot type (scatter, bar, boxplot,…) corresponding to your data.\n",
    "\n",
    "![](https://pandas.pydata.org/docs/_images/04_plot_overview.svg)\n",
    "\n",
    "\n",
    "# Pandas Data Structures\n",
    "\n",
    "The core components of Pandas are **DataFrame** and **Series**. \n",
    "\n",
    "![](https://www.kdnuggets.com/wp-content/uploads/pandas-02.png)\n",
    "\n"
   ]
  },
  {
   "cell_type": "code",
   "execution_count": null,
   "id": "452a0f41",
   "metadata": {},
   "outputs": [],
   "source": [
    "data = {\"Country\":[\"The Netherlands\", \"Belgium\",\"India\",\"Brazil\"],\n",
    "       \"Capital\":[\"Amsterdam\", \"Brussels\",\"New Delhi\",\"Brasilia\"],\n",
    "       \"Population\":[17000000,  11122233, 1300000000, 207855000]}\n",
    "df = pd.DataFrame(data, columns=['Country','Capital','Population'])\n",
    "df"
   ]
  },
  {
   "cell_type": "markdown",
   "id": "2a607615",
   "metadata": {},
   "source": [
    "### 4.1 Print summary statistics of the dataset"
   ]
  },
  {
   "cell_type": "code",
   "execution_count": null,
   "id": "9bad9c47",
   "metadata": {},
   "outputs": [],
   "source": [
    "titanic.describe()"
   ]
  },
  {
   "cell_type": "markdown",
   "id": "4d8b26d5",
   "metadata": {},
   "source": [
    "# Data Exploration and Summarization"
   ]
  },
  {
   "cell_type": "code",
   "execution_count": null,
   "id": "2b6a7fff",
   "metadata": {},
   "outputs": [],
   "source": [
    "titanic['Survived'].value_counts()"
   ]
  },
  {
   "cell_type": "code",
   "execution_count": null,
   "id": "62411b99",
   "metadata": {},
   "outputs": [],
   "source": [
    "titanic['Survived']==1"
   ]
  },
  {
   "cell_type": "code",
   "execution_count": null,
   "id": "26e42763",
   "metadata": {},
   "outputs": [],
   "source": [
    "titanic[titanic['Survived']==1]"
   ]
  },
  {
   "cell_type": "code",
   "execution_count": null,
   "id": "c9911716",
   "metadata": {},
   "outputs": [],
   "source": [
    "titanic[titanic['Survived']==1][['Name','Age','Sex']]"
   ]
  },
  {
   "cell_type": "markdown",
   "id": "5af22e89",
   "metadata": {},
   "source": [
    "### 4.2 Find average age of people who survived"
   ]
  },
  {
   "cell_type": "code",
   "execution_count": null,
   "id": "8348b773",
   "metadata": {},
   "outputs": [],
   "source": [
    "titanic[titanic['Survived']==0] ['Age'].mean()"
   ]
  },
  {
   "cell_type": "code",
   "execution_count": null,
   "id": "820076b5",
   "metadata": {},
   "outputs": [],
   "source": []
  },
  {
   "cell_type": "markdown",
   "id": "97948e65",
   "metadata": {},
   "source": [
    "### 4.3 Find how many people whose name contains 'Mark' survived"
   ]
  },
  {
   "cell_type": "code",
   "execution_count": null,
   "id": "bf4dfe7f",
   "metadata": {},
   "outputs": [],
   "source": [
    "titanic[titanic['Name'].str.contains(\"Mark\")]"
   ]
  },
  {
   "cell_type": "code",
   "execution_count": null,
   "id": "3ce1c30d",
   "metadata": {},
   "outputs": [],
   "source": []
  },
  {
   "cell_type": "code",
   "execution_count": null,
   "id": "336982a4",
   "metadata": {},
   "outputs": [],
   "source": []
  },
  {
   "cell_type": "markdown",
   "id": "abdf1473",
   "metadata": {},
   "source": [
    "### 4.4 Find survival rate of all the people who are either female or child (age<12)"
   ]
  },
  {
   "cell_type": "code",
   "execution_count": null,
   "id": "325b0c9a",
   "metadata": {},
   "outputs": [],
   "source": []
  },
  {
   "cell_type": "code",
   "execution_count": null,
   "id": "d098c271",
   "metadata": {},
   "outputs": [],
   "source": []
  },
  {
   "cell_type": "code",
   "execution_count": null,
   "id": "403b67ff",
   "metadata": {},
   "outputs": [],
   "source": []
  },
  {
   "cell_type": "markdown",
   "id": "04f46a41",
   "metadata": {},
   "source": [
    "### 4.5 Find the opposite"
   ]
  },
  {
   "cell_type": "code",
   "execution_count": null,
   "id": "9240d3be",
   "metadata": {},
   "outputs": [],
   "source": []
  },
  {
   "cell_type": "code",
   "execution_count": null,
   "id": "cf7e8562",
   "metadata": {},
   "outputs": [],
   "source": []
  },
  {
   "cell_type": "code",
   "execution_count": null,
   "id": "5c7ef083",
   "metadata": {},
   "outputs": [],
   "source": []
  },
  {
   "cell_type": "markdown",
   "id": "a34ac9f2",
   "metadata": {},
   "source": [
    "## Modifying the Dataframe\n",
    "\n",
    "### 4.6 Add new column based on other columns\n",
    "\n",
    "Create a new column so that we have information about whether a person is a child, or an older male or a female."
   ]
  },
  {
   "cell_type": "code",
   "execution_count": null,
   "id": "eb72b908",
   "metadata": {},
   "outputs": [],
   "source": [
    "# This block shows a function that returns a value, but it doesn't work with a dataframe\n",
    "\n",
    "def male_female_child(age, sex):\n",
    "    if age<12:\n",
    "        return 'child'\n",
    "    else:\n",
    "        return sex"
   ]
  },
  {
   "cell_type": "code",
   "execution_count": null,
   "id": "0c4195ab",
   "metadata": {},
   "outputs": [],
   "source": [
    "male_female_child(15, 'male')"
   ]
  },
  {
   "cell_type": "code",
   "execution_count": null,
   "id": "38be5aa3",
   "metadata": {},
   "outputs": [],
   "source": [
    "male_female_child(11, 'male')"
   ]
  },
  {
   "cell_type": "code",
   "execution_count": null,
   "id": "4320a879",
   "metadata": {},
   "outputs": [],
   "source": [
    "male_female_child(16, 'female')"
   ]
  },
  {
   "cell_type": "code",
   "execution_count": null,
   "id": "9bcb9b23",
   "metadata": {},
   "outputs": [],
   "source": [
    "def male_female_child(passenger):\n",
    "    # Change the function so that it creates the new column\n",
    "    return None\n",
    "\n",
    "\n",
    "# The function should be called like the following. You can use the same line to run the function.\n",
    "\n",
    "titanic[['Age','Sex']].apply(male_female_child, axis=1) "
   ]
  },
  {
   "cell_type": "markdown",
   "id": "96860fde",
   "metadata": {},
   "source": [
    "### 4.7 Find the survival rate of men above the age of 40 (excluding 40)\n",
    "\n",
    "Work with your neighbours to find solution of this. The final answer should be a percentage. \n",
    "\n",
    "This can also be rephrased as \"If you are a man above the age of 40, what are the %age chances that you would have survived titanic disaster?\" \n",
    "or\n",
    "\"What percentage of men older than 40 aboard the titanic survived?\""
   ]
  },
  {
   "cell_type": "code",
   "execution_count": null,
   "id": "50e982ef",
   "metadata": {},
   "outputs": [],
   "source": [
    "# Show the survival data"
   ]
  },
  {
   "cell_type": "markdown",
   "id": "c9580220",
   "metadata": {},
   "source": [
    "###  4.8 Find the survival rate of people in the first class\n",
    "\n",
    "Can you conclude anything based on this?"
   ]
  },
  {
   "cell_type": "code",
   "execution_count": null,
   "id": "479bda9f",
   "metadata": {},
   "outputs": [],
   "source": [
    "# Show the survival data"
   ]
  },
  {
   "cell_type": "markdown",
   "id": "4368a52a",
   "metadata": {},
   "source": [
    "# 5. Visualization\n",
    "\n",
    "Visualizations help us get a more detailed yet crisp picture of the dataset. \n",
    "\n",
    "### Plot a histogram of Ages"
   ]
  },
  {
   "cell_type": "code",
   "execution_count": null,
   "id": "87e22f9b",
   "metadata": {},
   "outputs": [],
   "source": [
    "titanic['Age'].plot(kind='hist')"
   ]
  },
  {
   "cell_type": "markdown",
   "id": "47661e7e",
   "metadata": {},
   "source": [
    "### Plot a histogram of Fares"
   ]
  },
  {
   "cell_type": "code",
   "execution_count": null,
   "id": "3a7bedd7",
   "metadata": {},
   "outputs": [],
   "source": []
  },
  {
   "cell_type": "markdown",
   "id": "cb55824c",
   "metadata": {},
   "source": [
    "# Introducing Seaborn\n",
    "\n",
    "Seaborn is a Python data visualization library based on matplotlib. It provides a high-level interface for drawing attractive and informative statistical graphics.\n",
    "\n",
    "![](https://livecodestream.dev/post/how-to-build-beautiful-plots-with-python-and-seaborn/featured.jpg)\n"
   ]
  },
  {
   "cell_type": "markdown",
   "id": "0ce92576",
   "metadata": {},
   "source": [
    "### Import (if required, install) Seaborn"
   ]
  },
  {
   "cell_type": "code",
   "execution_count": null,
   "id": "68812868",
   "metadata": {},
   "outputs": [],
   "source": [
    "# %pip install seaborn"
   ]
  },
  {
   "cell_type": "code",
   "execution_count": null,
   "id": "7512acdd",
   "metadata": {},
   "outputs": [],
   "source": [
    "import seaborn as sns"
   ]
  },
  {
   "cell_type": "markdown",
   "id": "e2f2863c",
   "metadata": {},
   "source": [
    "### Show the count of men, women and children across each passenger class"
   ]
  },
  {
   "cell_type": "code",
   "execution_count": null,
   "id": "ff173b28",
   "metadata": {},
   "outputs": [],
   "source": [
    "titanic['person'] = titanic[['Age','Sex']].apply(male_female_child, axis=1) \n",
    "\n",
    "sns.catplot(x='Pclass', data=titanic, kind='count', hue='person')"
   ]
  },
  {
   "cell_type": "markdown",
   "id": "51aac422",
   "metadata": {},
   "source": [
    "#### Alternate way of looking at the same data\n",
    "\n",
    "Notice how crosstabulation function helps us get a crisp perspective about the data which is in categorical form"
   ]
  },
  {
   "cell_type": "code",
   "execution_count": null,
   "id": "626cf3df",
   "metadata": {},
   "outputs": [],
   "source": [
    "pd.crosstab(index = titanic['Pclass'], columns = titanic['person'])"
   ]
  },
  {
   "cell_type": "code",
   "execution_count": null,
   "id": "9aee7d73",
   "metadata": {},
   "outputs": [],
   "source": [
    "pd.crosstab(index = titanic['Pclass'], columns = titanic['person']).plot(kind='bar', stacked=True)"
   ]
  },
  {
   "cell_type": "markdown",
   "id": "9f437229",
   "metadata": {},
   "source": [
    "### Show a swarmplot showing ages of people who survived"
   ]
  },
  {
   "cell_type": "code",
   "execution_count": null,
   "id": "be34e913",
   "metadata": {},
   "outputs": [],
   "source": [
    "import  matplotlib.pyplot as plt\n",
    "plt.figure(figsize=(12,8))\n",
    "# Put your code here\n",
    "plt.show()"
   ]
  },
  {
   "cell_type": "markdown",
   "id": "b1c46ce5",
   "metadata": {},
   "source": [
    "### Show bar-charts indicating number of people across each class, further divided across survival status"
   ]
  },
  {
   "cell_type": "code",
   "execution_count": null,
   "id": "846eaead",
   "metadata": {},
   "outputs": [],
   "source": [
    "pd.crosstab( titanic.Survived ,titanic.Pclass).plot(kind=\"bar\")"
   ]
  },
  {
   "cell_type": "markdown",
   "id": "dccae753",
   "metadata": {},
   "source": [
    "### Find if how rich you were determined if you would have survived\n",
    "\n",
    "Box plot is another way to understand the distribution. It removes the outliers and show us where the median (exact middle of the data) and the 1st quartile and 3rd quartile exist. It is a crisp yet detailed way to understand the data. "
   ]
  },
  {
   "cell_type": "code",
   "execution_count": null,
   "id": "beee9e42",
   "metadata": {},
   "outputs": [],
   "source": [
    "plt.figure(figsize=(12,10))\n",
    "# Create a boxplot with x=survived, y=fare\n",
    "plt.xticks(rotation=45)\n",
    "plt.show()"
   ]
  },
  {
   "cell_type": "markdown",
   "id": "8bef842d",
   "metadata": {},
   "source": [
    "### Back to the original question\n",
    "\n",
    "Use countplot to show the how many men, women and child survived or didn't survive"
   ]
  },
  {
   "cell_type": "code",
   "execution_count": null,
   "id": "600433c9",
   "metadata": {},
   "outputs": [],
   "source": [
    "plt.figure(figsize=(12,10))\n",
    "sns.countplot('person', hue ='Survived', data=titanic)\n",
    "plt.show()"
   ]
  },
  {
   "cell_type": "markdown",
   "id": "12028743",
   "metadata": {},
   "source": [
    "### Point Plot\n",
    "\n",
    "A point plot represents an estimate of central tendency for a numeric variable by the position of scatter plot points and provides some indication of the uncertainty around that estimate using error bars.\n",
    "\n",
    "Point plots can be more useful than bar plots for focusing comparisons between different levels of one or more categorical variables. They are particularly adept at showing interactions: how the relationship between levels of one categorical variable changes across levels of a second categorical variable. The lines that join each point from the same hue level allow interactions to be judged by differences in slope, which is easier for the eyes than comparing the heights of several groups of points or bars."
   ]
  },
  {
   "cell_type": "markdown",
   "id": "c52c88cd",
   "metadata": {},
   "source": [
    "### Create a point plot between Passenger class and Survived"
   ]
  },
  {
   "cell_type": "code",
   "execution_count": null,
   "id": "a0789d59",
   "metadata": {},
   "outputs": [],
   "source": []
  },
  {
   "cell_type": "markdown",
   "id": "d781c1df",
   "metadata": {},
   "source": [
    "### Create a point plot between Passenger class and Survived grouped by Sex"
   ]
  },
  {
   "cell_type": "code",
   "execution_count": null,
   "id": "2e28f69b",
   "metadata": {},
   "outputs": [],
   "source": []
  },
  {
   "cell_type": "code",
   "execution_count": null,
   "id": "6f571ecc",
   "metadata": {},
   "outputs": [],
   "source": []
  },
  {
   "cell_type": "markdown",
   "id": "7718fdc9",
   "metadata": {},
   "source": [
    "### Create a linear regression model based plot between Age and Survival\n",
    "\n",
    "Note: Linear regression is not best suited for these problems and we will look at alternatives later, however this indicates the general trend in the data that we wish to find. "
   ]
  },
  {
   "cell_type": "code",
   "execution_count": null,
   "id": "351274b2",
   "metadata": {},
   "outputs": [],
   "source": [
    "sns.lmplot('Age','Survived', data=titanic, hue='Sex')"
   ]
  },
  {
   "cell_type": "markdown",
   "id": "23f64213",
   "metadata": {},
   "source": [
    "## Task: Is it better to travel with family?\n",
    "\n",
    "Create a new column called **Partners**. If the person is a parent travelling with a child, or a child with a parent, or someone travelling with a sibling, that indicates they are travelling with family, otherwise they are travelling alone. The column called partners should contain the value \"with family\" if someone is travelling with parents, children, siblings, or spouse; \"alone\" if travelling alone."
   ]
  },
  {
   "cell_type": "code",
   "execution_count": null,
   "id": "3c434cac",
   "metadata": {},
   "outputs": [],
   "source": [
    "# Modify this line. It might require more than one line of code\n",
    "\n",
    "titanic['Alone'] = None"
   ]
  },
  {
   "cell_type": "code",
   "execution_count": null,
   "id": "bd8d9a6b",
   "metadata": {},
   "outputs": [],
   "source": [
    "sns.lmplot('Age','Survived', data=titanic, hue='Alone')"
   ]
  },
  {
   "cell_type": "markdown",
   "id": "746c8bc0",
   "metadata": {},
   "source": [
    "### Does the city where you embarked have any impact?"
   ]
  },
  {
   "cell_type": "code",
   "execution_count": null,
   "id": "df573423",
   "metadata": {},
   "outputs": [],
   "source": [
    "plt.figure(figsize=(12,10))\n",
    "# Complete the following line\n",
    "sns.catplot()\n",
    "plt.show()"
   ]
  },
  {
   "cell_type": "markdown",
   "id": "bf708cfc",
   "metadata": {},
   "source": [
    "# Conclusion\n",
    "\n",
    "Classroom discussion on what we can conclude from this analysis of the dataset.\n",
    "\n",
    "- "
   ]
  }
 ],
 "metadata": {
  "kernelspec": {
   "display_name": "Python 3 (ipykernel)",
   "language": "python",
   "name": "python3"
  },
  "language_info": {
   "codemirror_mode": {
    "name": "ipython",
    "version": 3
   },
   "file_extension": ".py",
   "mimetype": "text/x-python",
   "name": "python",
   "nbconvert_exporter": "python",
   "pygments_lexer": "ipython3",
   "version": "3.8.8"
  }
 },
 "nbformat": 4,
 "nbformat_minor": 5
}
